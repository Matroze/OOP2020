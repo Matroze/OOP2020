{
 "cells": [
  {
   "cell_type": "code",
   "execution_count": 1,
   "metadata": {},
   "outputs": [],
   "source": [
    "#Упражнение_2\n",
    "class Node:\n",
    "    def __init__(self,data):\n",
    "        self.left = None\n",
    "        self.right = None\n",
    "        self.data = data\n",
    "\n",
    "class BinTree:\n",
    "\n",
    "    def __init__(self):\n",
    "        self.root = None\n",
    "\n",
    "\n",
    "    def insert_node(self,root,element):\n",
    "        if self.root is None:\n",
    "            self.root = Node(element)\n",
    "        else:\n",
    "\n",
    "            if root is None:\n",
    "                root = Node(element)\n",
    "            elif root.data <= element:\n",
    "                root.right = self.insert_node(root.right,element)\n",
    "            elif root.data > element:\n",
    "                root.left = self.insert_node(root.left,element)\n",
    "\n",
    "\n",
    "        return root\n",
    "\n",
    "    def PreOrder(self,root):\n",
    "        if root is not None:\n",
    "            print(root.data)\n",
    "            if root.left is not None:\n",
    "                self.PreOrder(root.left)\n",
    "            if root.right is not None:\n",
    "                self.PreOrder(root.right)"
   ]
  },
  {
   "cell_type": "code",
   "execution_count": null,
   "metadata": {},
   "outputs": [
    {
     "name": "stdout",
     "output_type": "stream",
     "text": [
      "1\n",
      "Среднее 1.0\n",
      "Количество  данных 1\n",
      "Дисперсия 0.0\n",
      "2\n",
      "Среднее 1.5\n",
      "Количество  данных 2\n",
      "Дисперсия 0.25\n",
      "3\n",
      "Среднее 2.0\n",
      "Количество  данных 3\n",
      "Дисперсия 0.6666666666666666\n",
      "4\n",
      "Среднее 2.5\n",
      "Количество  данных 4\n",
      "Дисперсия 1.25\n",
      "5\n",
      "Среднее 3.0\n",
      "Количество  данных 5\n",
      "Дисперсия 2.0\n",
      "0\n",
      "Среднее 2.5\n",
      "Количество  данных 6\n",
      "Дисперсия 2.9166666666666665\n",
      "1\n",
      "Среднее 2.2857142857142856\n",
      "Количество  данных 7\n",
      "Дисперсия 2.775510204081633\n"
     ]
    }
   ],
   "source": [
    "#Упражнение_4\n",
    "import numpy as np\n",
    "\n",
    "def print_coroutine(x):\n",
    "    average = 0\n",
    "    n = 0\n",
    "    arr = []\n",
    "    while True:\n",
    "        x = yield x\n",
    "        n += 1\n",
    "        arr.append(x)\n",
    "        disp = np.var(arr)\n",
    "        average = (average * (n-1)+x)/(n)\n",
    "        print('Среднее', average)\n",
    "        print('Количество  данных', n)\n",
    "        print('Дисперсия', disp)\n",
    "\n",
    "data = input()\n",
    "coroutine = print_coroutine(data)\n",
    "next(coroutine)\n",
    "while data != '':\n",
    "    coroutine.send(int(data))\n",
    "    data = input()"
   ]
  },
  {
   "cell_type": "code",
   "execution_count": null,
   "metadata": {},
   "outputs": [],
   "source": []
  }
 ],
 "metadata": {
  "kernelspec": {
   "display_name": "Python 3",
   "language": "python",
   "name": "python3"
  },
  "language_info": {
   "codemirror_mode": {
    "name": "ipython",
    "version": 3
   },
   "file_extension": ".py",
   "mimetype": "text/x-python",
   "name": "python",
   "nbconvert_exporter": "python",
   "pygments_lexer": "ipython3",
   "version": "3.7.6"
  }
 },
 "nbformat": 4,
 "nbformat_minor": 4
}
