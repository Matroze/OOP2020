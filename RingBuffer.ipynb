{
 "cells": [
  {
   "cell_type": "code",
   "execution_count": 3,
   "metadata": {},
   "outputs": [
    {
     "name": "stdout",
     "output_type": "stream",
     "text": [
      "Пустой: True\n",
      "Полный: False\n",
      "[None, None, None, None, None]\n",
      "['один', 'два', 'три', 'четыре', None]\n",
      "один\n",
      "два\n",
      "[None, None, 'три', 'четыре', None]\n",
      "['шесть', None, 'три', 'четыре', 'пять']\n",
      "Полный: True\n"
     ]
    }
   ],
   "source": [
    "class RingBuffer(object):\n",
    "\n",
    "    def __init__(self, max_size=10):\n",
    "        self.buffer = [None] * max_size\n",
    "        self.head = 0\n",
    "        self.tail = 0\n",
    "        self.max_size = max_size\n",
    "\n",
    "    def __str__(self):\n",
    "        items = ['{!r}'.format(item) for item in self.buffer]\n",
    "        return '[' + ', '.join(items) + ']'\n",
    "\n",
    "    def size(self):\n",
    "        if self.tail >= self.head:\n",
    "            return self.tail - self.head\n",
    "        return self.max_size - self.head - self.tail\n",
    "\n",
    "    def is_empty(self):\n",
    "        return self.tail == self.head\n",
    "    \n",
    "    def is_full(self):\n",
    "        return self.tail == (self.head-1) % self.max_size\n",
    "\n",
    "    def enqueue(self, item):\n",
    "        if self.is_full():\n",
    "            raise OverflowError(\"Буфер переполнен, не удается поставить элемент в очередь\")\n",
    "        self.buffer[self.tail] = item\n",
    "        self.tail = (self.tail + 1) % self.max_size\n",
    "\n",
    "    def front(self):\n",
    "        return self.buffer[self.head]\n",
    "\n",
    "    def dequeue(self):\n",
    "        if self.is_empty():\n",
    "            raise IndexError(\"Буфер пуст, не удается удалить очередь\")\n",
    "        item = self.buffer[self.head]\n",
    "        self.buffer[self.head] = None\n",
    "        self.head = (self.head + 1) % self.max_size\n",
    "        return item\n",
    "\n",
    "\n",
    "cb = RingBuffer(5)\n",
    "print(\"Пустой: {}\".format(cb.is_empty()))\n",
    "print(\"Полный: {}\".format(cb.is_full()))\n",
    "print(str(cb))\n",
    "cb.enqueue(\"один\")\n",
    "cb.enqueue(\"два\")\n",
    "cb.enqueue(\"три\")\n",
    "cb.enqueue(\"четыре\")\n",
    "print(str(cb))\n",
    "print(cb.dequeue())\n",
    "print(cb.dequeue())\n",
    "print(str(cb))\n",
    "cb.enqueue(\"пять\")\n",
    "cb.enqueue(\"шесть\")\n",
    "print(str(cb))\n",
    "print(\"Полный: {}\".format(cb.is_full()))"
   ]
  },
  {
   "cell_type": "code",
   "execution_count": null,
   "metadata": {},
   "outputs": [],
   "source": []
  }
 ],
 "metadata": {
  "kernelspec": {
   "display_name": "Python 3",
   "language": "python",
   "name": "python3"
  },
  "language_info": {
   "codemirror_mode": {
    "name": "ipython",
    "version": 3
   },
   "file_extension": ".py",
   "mimetype": "text/x-python",
   "name": "python",
   "nbconvert_exporter": "python",
   "pygments_lexer": "ipython3",
   "version": "3.7.6"
  }
 },
 "nbformat": 4,
 "nbformat_minor": 4
}
