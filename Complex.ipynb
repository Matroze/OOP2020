{
 "cells": [
  {
   "cell_type": "code",
   "execution_count": 34,
   "metadata": {},
   "outputs": [],
   "source": [
    "\n",
    "class Complex():\n",
    "    def __init__(self, x = 0, y = 0):\n",
    "        self.x = x\n",
    "        self.y = y\n",
    "    def __add__(self, other):\n",
    "        return Complex(self.x + other.x, self.y + other.y)\n",
    "    def __sub__(self, other):\n",
    "        return Complex(self.x - other.x, self.y - other.y)\n",
    "    def __abs__(self):\n",
    "        return Complex((self.x**2+self.y**2)**(1/2), 0)\n",
    "    def __str__(self):\n",
    "        if self.y == 0:\n",
    "            result = \"%.2f+0.00j\" % (self.x)\n",
    "        elif self.x == 0:\n",
    "            if self.y >= 0:\n",
    "                result = \"0.00+%.2fj\" % (self.y)\n",
    "            else:\n",
    "                result = \"0.00-%.2fj\" % (abs(self.y))\n",
    "        elif self.x > 0:\n",
    "            result = \"%.2f+%.2fj\" % (self.x, self.y)\n",
    "        else:\n",
    "            result = \"%.2f-%.2fj\" % (self.x, abs(self.y))\n",
    "        return result\n",
    "    "
   ]
  },
  {
   "cell_type": "code",
   "execution_count": 38,
   "metadata": {},
   "outputs": [
    {
     "name": "stdout",
     "output_type": "stream",
     "text": [
      "7.00+7.00j   -3.00-5.00j   2.24+0.00j\n"
     ]
    }
   ],
   "source": [
    "if __name__ == '__main__':\n",
    "    x = Complex(2,1)\n",
    "    y = Complex(5,6)\n",
    "    print(*map(str, [x+y, x-y, abs(x)]), sep='   ')"
   ]
  },
  {
   "cell_type": "code",
   "execution_count": null,
   "metadata": {},
   "outputs": [],
   "source": []
  }
 ],
 "metadata": {
  "kernelspec": {
   "display_name": "Python 3",
   "language": "python",
   "name": "python3"
  },
  "language_info": {
   "codemirror_mode": {
    "name": "ipython",
    "version": 3
   },
   "file_extension": ".py",
   "mimetype": "text/x-python",
   "name": "python",
   "nbconvert_exporter": "python",
   "pygments_lexer": "ipython3",
   "version": "3.7.6"
  }
 },
 "nbformat": 4,
 "nbformat_minor": 4
}
